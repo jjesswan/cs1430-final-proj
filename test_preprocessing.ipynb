{
 "cells": [
  {
   "cell_type": "code",
   "execution_count": null,
   "metadata": {},
   "outputs": [],
   "source": [
    "import os\n",
    "import cv2\n",
    "import numpy as np\n",
    "from tqdm import tqdm\n",
    "import time\n",
    "import matplotlib.pyplot as plt\n",
    "from PIL import Image"
   ]
  },
  {
   "cell_type": "code",
   "execution_count": null,
   "metadata": {},
   "outputs": [],
   "source": [
    "def downsample_image(image_path, output_dir='downsampled_images', scale=0.25, noise_prob=1, noise_std=5, blur_ksize=3, artifact_prob=1, artifact_quality=80):\n",
    "    \"\"\"\n",
    "    Downsample image with noise, blur, and artifacts\n",
    "    \n",
    "    Args:\n",
    "        image_path: Image path\n",
    "        output_dir: Directory to save the downsampled image\n",
    "        scale: Downsampling factor\n",
    "        noise_prob: probability of adding Gaussian noise\n",
    "        noise_std: standard deviation of Gaussian noise\n",
    "        blur_ksize: kernel size for Gaussian blur\n",
    "        artifact_prob: probability of adding compression artifacts\n",
    "        artifact_quality: quality of compression artifacts\n",
    "    \"\"\"\n",
    "    os.makedirs(output_dir, exist_ok=True)\n",
    "\n",
    "    # Load & downsample\n",
    "    image = cv2.imread(image_path)\n",
    "    height, width = image.shape[:2]\n",
    "    downsampled = cv2.resize(image, (int(width * scale), int(height * scale)), interpolation=cv2.INTER_AREA)\n",
    "    \n",
    "    # Gaussian noise\n",
    "    if np.random.uniform(0, 1) < noise_prob:\n",
    "        noise = np.random.normal(0, noise_std, downsampled.shape).astype(np.uint8)\n",
    "        noisy_image = cv2.add(downsampled, noise)\n",
    "    else:\n",
    "        noisy_image = downsampled\n",
    "\n",
    "    # Gaussian blur\n",
    "    blurred_image = cv2.GaussianBlur(noisy_image, (blur_ksize, blur_ksize), 0)\n",
    "\n",
    "    # Compression artifacts\n",
    "    if np.random.uniform(0, 1) < artifact_prob:\n",
    "        _, compressed_image = cv2.imencode('.jpg', blurred_image, [cv2.IMWRITE_JPEG_QUALITY, artifact_quality])\n",
    "        final_image = cv2.imdecode(compressed_image, cv2.IMREAD_COLOR)\n",
    "    else:\n",
    "        final_image = blurred_image\n",
    "\n",
    "    # Save image\n",
    "    output_path = os.path.join(output_dir, os.path.basename(image_path))\n",
    "    cv2.imwrite(output_path, final_image)"
   ]
  },
  {
   "cell_type": "code",
   "execution_count": null,
   "metadata": {},
   "outputs": [],
   "source": [
    "def preprocess_image(image_path):\n",
    "    image = cv2.imread(image_path)\n",
    "    image = image.reshape(1, -1)\n",
    "    image = image / 255.0 # scale to (0, 1)\n",
    "    image = image * 2 - 1 # send to (-1, 1)\n",
    "    return image"
   ]
  },
  {
   "cell_type": "code",
   "execution_count": null,
   "metadata": {},
   "outputs": [],
   "source": [
    "image_path = 'images/00000001_000.png'\n",
    "orig_image = cv2.imread(image_path)\n",
    "print(f'Original image shape: {orig_image.shape}')\n",
    "preprocessed_image = preprocess_image(image_path)\n",
    "print(f'Preprocessed image shape: {preprocessed_image.shape}')\n",
    "\n",
    "downsample_image(image_path)\n",
    "downsampled_image = cv2.imread('downsampled_images/00000001_000.png')\n",
    "print(f'Downsampled image shape: {downsampled_image.shape}')\n",
    "\n",
    "preprocessed_downsampled_image = preprocess_image('downsampled_images/00000001_000.png')\n",
    "print(f'Preprocessed downsampled image shape: {preprocessed_downsampled_image.shape}')"
   ]
  },
  {
   "cell_type": "code",
   "execution_count": null,
   "metadata": {},
   "outputs": [],
   "source": [
    "plt.imshow(orig_image, cmap='gray')"
   ]
  },
  {
   "cell_type": "code",
   "execution_count": null,
   "metadata": {},
   "outputs": [],
   "source": [
    "plt.imshow(preprocessed_image.reshape(orig_image.shape), cmap='gray')"
   ]
  },
  {
   "cell_type": "code",
   "execution_count": null,
   "metadata": {},
   "outputs": [],
   "source": [
    "plt.imshow(downsampled_image, cmap='gray')"
   ]
  },
  {
   "cell_type": "code",
   "execution_count": null,
   "metadata": {},
   "outputs": [],
   "source": [
    "plt.imshow(preprocessed_downsampled_image.reshape(downsampled_image.shape), cmap='gray')"
   ]
  }
 ],
 "metadata": {
  "kernelspec": {
   "display_name": "cs1430v2",
   "language": "python",
   "name": "python3"
  },
  "language_info": {
   "codemirror_mode": {
    "name": "ipython",
    "version": 3
   },
   "file_extension": ".py",
   "mimetype": "text/x-python",
   "name": "python",
   "nbconvert_exporter": "python",
   "pygments_lexer": "ipython3",
   "version": "3.9.19"
  }
 },
 "nbformat": 4,
 "nbformat_minor": 2
}
