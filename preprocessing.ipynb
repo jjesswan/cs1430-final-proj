{
 "cells": [
  {
   "cell_type": "code",
   "execution_count": null,
   "metadata": {},
   "outputs": [],
   "source": [
    "import numpy as np\n",
    "import matplotlib.pyplot as plt\n",
    "from sklearn.preprocessing import StandardScaler"
   ]
  },
  {
   "cell_type": "code",
   "execution_count": null,
   "metadata": {},
   "outputs": [],
   "source": [
    "def downsample_image(image_path):\n",
    "    '''Downsample images in images/ and save to downsampled_images/'''\n",
    "    # TODO: try noise + blur + artifacts\n",
    "    # e.g. gaussian noise\n",
    "    # look up tutorials on diffusion models\n",
    "    pass"
   ]
  },
  {
   "cell_type": "code",
   "execution_count": null,
   "metadata": {},
   "outputs": [],
   "source": [
    "def preprocess_image(image_path):\n",
    "    image = plt.imread(image_path)\n",
    "    print(image.shape)\n",
    "    image = image.reshape(1, -1)\n",
    "    image = image / 255.0 # scale to 0,1\n",
    "    image = image * 2 - 1 # send to -1, 1\n",
    "    return image"
   ]
  },
  {
   "cell_type": "code",
   "execution_count": null,
   "metadata": {},
   "outputs": [],
   "source": [
    "image = preprocess_image(\"images/00000001_000.png\")\n",
    "print(image)\n",
    "plt.imshow(image.reshape(1024, 1024), cmap=\"gray\")"
   ]
  }
 ],
 "metadata": {
  "kernelspec": {
   "display_name": "cs1430v2",
   "language": "python",
   "name": "python3"
  },
  "language_info": {
   "codemirror_mode": {
    "name": "ipython",
    "version": 3
   },
   "file_extension": ".py",
   "mimetype": "text/x-python",
   "name": "python",
   "nbconvert_exporter": "python",
   "pygments_lexer": "ipython3",
   "version": "3.9.19"
  }
 },
 "nbformat": 4,
 "nbformat_minor": 2
}
